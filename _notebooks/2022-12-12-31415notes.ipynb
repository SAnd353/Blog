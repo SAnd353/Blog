{
 "cells": [
  {
   "attachments": {},
   "cell_type": "markdown",
   "metadata": {},
   "source": [
    "# 3.14 & 3.15 Notes\n",
    "- title: Collegeboard Lesson 3.14 & 3.15 Notes\n",
    "- toc: true\n",
    "- categories: [Lesson_Notes]"
   ]
  },
  {
   "attachments": {},
   "cell_type": "markdown",
   "metadata": {},
   "source": [
    "## 3.14.1 - Libraries\n",
    "- Software libraries contain procedures\n",
    "- Libraries can simplify the creation of complex programs\n",
    "- APIs specify how the procedures in a library behave and can be used\n",
    "- Documentation is important\n",
    "- Libraries are typically included in a program with a special keyword\n",
    "- a library can be installed with pip"
   ]
  },
  {
   "cell_type": "code",
   "execution_count": 4,
   "metadata": {},
   "outputs": [
    {
     "name": "stdout",
     "output_type": "stream",
     "text": [
      "0.8509035245341184 0.0\n"
     ]
    }
   ],
   "source": [
    "import math\n",
    "print(math.sin(45), math.sin(0))"
   ]
  },
  {
   "attachments": {},
   "cell_type": "markdown",
   "metadata": {},
   "source": [
    "## 3.15.1 - Radomization\n",
    "- Generating a random numbers between two numbers\n",
    "- import random\n",
    "- randint(), seed(), getstate(), setstate(), and more!"
   ]
  },
  {
   "attachments": {},
   "cell_type": "markdown",
   "metadata": {},
   "source": [
    "## 3.15.2\n",
    "- when specifying the range in random.randint it is inclusive"
   ]
  },
  {
   "cell_type": "code",
   "execution_count": 18,
   "metadata": {},
   "outputs": [
    {
     "name": "stdout",
     "output_type": "stream",
     "text": [
      "Heads\n",
      "Tails\n",
      "Tails\n",
      "Tails\n",
      "Heads\n",
      "Tails\n",
      "Tails\n",
      "Heads\n",
      "Heads\n",
      "Heads\n"
     ]
    }
   ],
   "source": [
    "import random\n",
    "for i in range(10):\n",
    "    if random.randint(0,1) == 1:\n",
    "        print(\"Heads\")\n",
    "    else:\n",
    "        print(\"Tails\")"
   ]
  },
  {
   "attachments": {},
   "cell_type": "markdown",
   "metadata": {},
   "source": [
    "## Consolidated Vocabulary\n",
    "Library - a collection of external code that can be imported and used to add functionality to a program\n",
    "Randomization - using a random number generator"
   ]
  }
 ],
 "metadata": {
  "kernelspec": {
   "display_name": "Python 3",
   "language": "python",
   "name": "python3"
  },
  "language_info": {
   "codemirror_mode": {
    "name": "ipython",
    "version": 3
   },
   "file_extension": ".py",
   "mimetype": "text/x-python",
   "name": "python",
   "nbconvert_exporter": "python",
   "pygments_lexer": "ipython3",
   "version": "3.8.10 (default, Jun 22 2022, 20:18:18) \n[GCC 9.4.0]"
  },
  "orig_nbformat": 4,
  "vscode": {
   "interpreter": {
    "hash": "916dbcbb3f70747c44a77c7bcd40155683ae19c65e1c03b4aa3499c5328201f1"
   }
  }
 },
 "nbformat": 4,
 "nbformat_minor": 2
}
