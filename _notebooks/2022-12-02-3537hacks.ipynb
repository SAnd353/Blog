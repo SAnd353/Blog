{
 "cells": [
  {
   "attachments": {},
   "cell_type": "markdown",
   "metadata": {},
   "source": [
    "# 3.5-3.7 Hacks\n",
    "> Hacks for 3.5-3.7\n",
    "- title: Collegeboard Lesson 3.5-3.7 Hacks\n",
    "- toc: true\n",
    "- categories: [Lesson_Hacks]"
   ]
  },
  {
   "cell_type": "markdown",
   "metadata": {},
   "source": [
    "# Hack 1: logical operators\n",
    "AND only returns true when two conditions are true\n",
    "OR only returns true when at least one of two conditions is true\n",
    "NOT inverts (true becomes false and false becomes true)"
   ]
  },
  {
   "cell_type": "code",
   "execution_count": 5,
   "metadata": {},
   "outputs": [
    {
     "name": "stdout",
     "output_type": "stream",
     "text": [
      "Homework has been completed\n"
     ]
    }
   ],
   "source": [
    "#AND scenario\n",
    "hw1completion = True\n",
    "hw2completion = True\n",
    "\n",
    "if hw1completion == True and hw2completion == True:\n",
    "    print(\"Homework has been completed\")"
   ]
  },
  {
   "cell_type": "code",
   "execution_count": 6,
   "metadata": {},
   "outputs": [
    {
     "data": {
      "text/plain": [
       "False"
      ]
     },
     "execution_count": 6,
     "metadata": {},
     "output_type": "execute_result"
    }
   ],
   "source": [
    "#NOT scenario\n",
    "lightsOn = True\n",
    "def pressSwitch():\n",
    "    return(not(lightsOn))\n",
    "pressSwitch()"
   ]
  },
  {
   "cell_type": "code",
   "execution_count": 3,
   "metadata": {},
   "outputs": [
    {
     "name": "stdout",
     "output_type": "stream",
     "text": [
      "passing\n"
     ]
    }
   ],
   "source": [
    "#OR scenario\n",
    "grade = \"A\"\n",
    "if grade == \"D\" or grade == \"F\":\n",
    "    print(\"failing\")\n",
    "else:\n",
    "    print(\"passing\")"
   ]
  },
  {
   "cell_type": "markdown",
   "metadata": {},
   "source": [
    "# Hack 2: Challenges\n",
    "\n",
    "Key terms\n",
    "- Selection: a section of code that executes based upon a condition\n",
    "- Algorithm: instructions that accomplishes a task\n",
    "- Conditional Statement/If-statement: A statement that makes code execute based upon a condition"
   ]
  },
  {
   "cell_type": "code",
   "execution_count": 3,
   "metadata": {},
   "outputs": [
    {
     "name": "stdout",
     "output_type": "stream",
     "text": [
      "Vowel count is 2\n"
     ]
    }
   ],
   "source": [
    "# Level 1: Vowel Count\n",
    "vowelcount=0\n",
    "inputStr=input(\"Input a string: \")\n",
    "for i in range(len(inputStr)):\n",
    "    if inputStr[i:i+1]==\"a\" or inputStr[i:i+1]==\"e\" or inputStr[i:i+1]==\"i\" or inputStr[i:i+1]==\"o\" or inputStr[i:i+1]==\"u\":\n",
    "        vowelcount += 1\n",
    "print(\"Vowel count is \" + str(vowelcount))"
   ]
  },
  {
   "cell_type": "code",
   "execution_count": 1,
   "metadata": {},
   "outputs": [
    {
     "name": "stdout",
     "output_type": "stream",
     "text": [
      "Peter likes this\n",
      "Jacob and Alex like this\n",
      "Max, John and Mark like this\n",
      "Alex, Jacob and 2 others like this\n",
      "Alex, Jacob and 3 others like this\n"
     ]
    }
   ],
   "source": [
    "#Level 2: Who Likes It?\n",
    "usersLiked1 = [\"Peter\"] \n",
    "usersLiked2 = [\"Jacob\", \"Alex\"]\n",
    "usersLiked3 = [\"Max\", \"John\", \"Mark\"]\n",
    "usersLiked4 = [\"Alex\", \"Jacob\", \"Mark\", \"Max\"]\n",
    "usersLiked5 = [\"Alex\", \"Jacob\", \"Mark\", \"Max\", \"Peter\"]\n",
    "\n",
    "def wholikes(list):\n",
    "    if len(list) == 0:\n",
    "        print(\"no one likes this\")\n",
    "    elif len(list) == 1:\n",
    "        print(str(list[0]) + \" likes this\")\n",
    "    elif len(list) >= 4:\n",
    "        print(list[0] + \", \" + list[1] + \" and \" + str(len(list) -2) + \" others like this\")\n",
    "    else:\n",
    "        print(\", \".join(list[0:-1]) + \" and \" + str(list[-1]) + \" like this\")\n",
    "\n",
    "\n",
    "wholikes(usersLiked1)\n",
    "wholikes(usersLiked2)\n",
    "wholikes(usersLiked3)\n",
    "wholikes(usersLiked4)\n",
    "wholikes(usersLiked5)"
   ]
  },
  {
   "cell_type": "code",
   "execution_count": 11,
   "metadata": {},
   "outputs": [
    {
     "name": "stdout",
     "output_type": "stream",
     "text": [
      "23\n"
     ]
    }
   ],
   "source": [
    "#Level 3: Multiples of 3 or 5\n",
    "multipleCount = 0\n",
    "numInput = input(\"Input a natural number: \")\n",
    "\n",
    "for i in range(int(numInput)):\n",
    "    if i % 3 == 0 or i % 5 == 0:\n",
    "        multipleCount += i\n",
    "\n",
    "print(multipleCount)\n"
   ]
  },
  {
   "cell_type": "code",
   "execution_count": 29,
   "metadata": {},
   "outputs": [
    {
     "name": "stdout",
     "output_type": "stream",
     "text": [
      "Dislike\n",
      "Nothing\n",
      "Like\n",
      "Nothing\n"
     ]
    }
   ],
   "source": [
    "#Level 4: Likes vs. Dislikes\n",
    "\n",
    "Like = False\n",
    "Dislike = False\n",
    "\n",
    "def like_or_dislike(list):\n",
    "    global Like\n",
    "    global Dislike\n",
    "    for i in range(len(list)):\n",
    "        if list[i] == \"Like\":\n",
    "            Dislike = False\n",
    "            Like = not(Like)\n",
    "        if list[i] == \"Dislike\":\n",
    "            Like = False\n",
    "            Dislike = not(Dislike)\n",
    "    if Like == True:\n",
    "        print(\"Like\")\n",
    "    elif Dislike == True:\n",
    "        print(\"Dislike\")\n",
    "    else:\n",
    "        print(\"Nothing\")\n",
    "    \n",
    "like_or_dislike([\"Dislike\"])\n",
    "like_or_dislike([\"Like\", \"Like\"])\n",
    "like_or_dislike([\"Dislike\", \"Like\"])\n",
    "like_or_dislike([\"Like\", \"Dislike\", \"Dislike\"])"
   ]
  },
  {
   "cell_type": "code",
   "execution_count": 4,
   "metadata": {},
   "outputs": [
    {
     "name": "stdout",
     "output_type": "stream",
     "text": [
      "[4]\n"
     ]
    }
   ],
   "source": [
    "# Level 5: Find the Odd Number\n",
    "oddoccuringnums = []\n",
    "numlist = [1,2,2,3,3,3,4,3,3,3,2,2,1]\n",
    "for i in numlist:\n",
    "    if numlist.count(i) % 2 == 1:\n",
    "        oddoccuringnums.append(i)\n",
    "print(oddoccuringnums)"
   ]
  },
  {
   "cell_type": "markdown",
   "metadata": {},
   "source": [
    "# Hack 3"
   ]
  },
  {
   "cell_type": "markdown",
   "metadata": {},
   "source": [
    "![flowchart1](https://raw.githubusercontent.com/SAnd353/Blog/master/images/3537flowchart1.png)"
   ]
  },
  {
   "cell_type": "code",
   "execution_count": 1,
   "metadata": {},
   "outputs": [
    {
     "name": "stdout",
     "output_type": "stream",
     "text": [
      "Go to school\n"
     ]
    }
   ],
   "source": [
    "schoolday = True\n",
    "ready = True\n",
    "if schoolday == True:\n",
    "    if ready == True:\n",
    "        print(\"Go to school\")\n",
    "    else:\n",
    "        print(\"Get ready for school if you can\")\n",
    "else:\n",
    "    print(\"Don't go to school\")"
   ]
  },
  {
   "cell_type": "markdown",
   "metadata": {},
   "source": [
    "![flowchart2](https://raw.githubusercontent.com/SAnd353/Blog/master/images/3537flowchart2.png)"
   ]
  },
  {
   "cell_type": "code",
   "execution_count": 2,
   "metadata": {},
   "outputs": [
    {
     "name": "stdout",
     "output_type": "stream",
     "text": [
      "Go to school\n"
     ]
    }
   ],
   "source": [
    "testfinished = True\n",
    "checked = True\n",
    "if testfinished == True:\n",
    "    if checked == True:\n",
    "        print(\"Turn in your test\")\n",
    "    else:\n",
    "        print(\"Check your work\")\n",
    "else:\n",
    "    print(\"Finish the test\")"
   ]
  },
  {
   "cell_type": "markdown",
   "metadata": {},
   "source": [
    "![flowchart3](https://raw.githubusercontent.com/SAnd353/Blog/master/images/3537flowchart3.png)"
   ]
  },
  {
   "cell_type": "code",
   "execution_count": 3,
   "metadata": {},
   "outputs": [
    {
     "name": "stdout",
     "output_type": "stream",
     "text": [
      "Have a snack\n"
     ]
    }
   ],
   "source": [
    "hungry = True\n",
    "littlehunger = True\n",
    "if hungry == True:\n",
    "    if littlehunger == True:\n",
    "        print(\"Have a snack\")\n",
    "    else:\n",
    "        print(\"Consider cooking something for yourself\")\n",
    "else:\n",
    "    print(\"Don't eat\")"
   ]
  },
  {
   "cell_type": "code",
   "execution_count": 4,
   "metadata": {},
   "outputs": [
    {
     "name": "stdout",
     "output_type": "stream",
     "text": [
      "You've finished all four assignments!\n"
     ]
    }
   ],
   "source": [
    "# Four statement code\n",
    "ac1 = True\n",
    "ac2 = True\n",
    "ac3 = True\n",
    "ac4 = True\n",
    "\n",
    "if ac1 == True:\n",
    "    if ac2 == True:\n",
    "        if ac3 == True:\n",
    "            if ac4 == True:\n",
    "                print(\"You've finished all four assignments!\")\n",
    "            else:\n",
    "                print(\"Finish the fourt assignment\")\n",
    "        else:\n",
    "            print(\"Finish the third assignment\")\n",
    "    else:\n",
    "        print(\"Finish the second assignment\")\n",
    "else:\n",
    "    print(\"Finish the first assignment\")"
   ]
  },
  {
   "cell_type": "code",
   "execution_count": 5,
   "metadata": {},
   "outputs": [
    {
     "name": "stdout",
     "output_type": "stream",
     "text": [
      "Consider taking AP Chemistry\n"
     ]
    }
   ],
   "source": [
    "# Class recommendation code\n",
    "likesStem = True\n",
    "likesScience = True\n",
    "\n",
    "if likesStem == True:\n",
    "    if likesScience == True:\n",
    "        print(\"Consider taking AP Chemistry\")\n",
    "    else:\n",
    "        print(\"Consider taking AP Calculus AB\")\n",
    "else:\n",
    "    print(\"Consider taking Honors Humanities\")"
   ]
  }
 ],
 "metadata": {
  "kernelspec": {
   "display_name": "Python 3.8.10 64-bit",
   "language": "python",
   "name": "python3"
  },
  "language_info": {
   "codemirror_mode": {
    "name": "ipython",
    "version": 3
   },
   "file_extension": ".py",
   "mimetype": "text/x-python",
   "name": "python",
   "nbconvert_exporter": "python",
   "pygments_lexer": "ipython3",
   "version": "3.8.10 (default, Jun 22 2022, 20:18:18) \n[GCC 9.4.0]"
  },
  "orig_nbformat": 4,
  "vscode": {
   "interpreter": {
    "hash": "916dbcbb3f70747c44a77c7bcd40155683ae19c65e1c03b4aa3499c5328201f1"
   }
  }
 },
 "nbformat": 4,
 "nbformat_minor": 2
}
