{
 "cells": [
  {
   "attachments": {},
   "cell_type": "markdown",
   "metadata": {},
   "source": [
    "# 3.12 & 3.13 Hacks\n",
    "- title: 3.12 & 3.13 Hacks\n",
    "- toc: true"
   ]
  },
  {
   "attachments": {},
   "cell_type": "markdown",
   "metadata": {},
   "source": [
    "## 3.A Hacks\n",
    "- A procedure is a set of instructions that can be called with parameteres and can return values.\n",
    "- A parameter is a variable that represents a value that gets inputted into a function\n",
    "- Return values are values that are outputted by procedures\n",
    "- Output parameters are parameters applied to outputs"
   ]
  },
  {
   "attachments": {},
   "cell_type": "markdown",
   "metadata": {},
   "source": [
    "![quizresult](https://raw.githubusercontent.com/SAnd353/Blog/master/images/312313quiz.png)"
   ]
  },
  {
   "cell_type": "code",
   "execution_count": 5,
   "metadata": {},
   "outputs": [
    {
     "name": "stdout",
     "output_type": "stream",
     "text": [
      "2.0\n"
     ]
    }
   ],
   "source": [
    "def squareRoot(x):\n",
    "    return(x**0.5)\n",
    "\n",
    "print(squareRoot(4))"
   ]
  },
  {
   "attachments": {},
   "cell_type": "markdown",
   "metadata": {},
   "source": [
    "## 3.B Hacks\n",
    "1. Abstracting away program logic into modular functions is effective because it avoids duplication and improves readability"
   ]
  },
  {
   "cell_type": "code",
   "execution_count": 9,
   "metadata": {},
   "outputs": [
    {
     "name": "stdout",
     "output_type": "stream",
     "text": [
      "27\n",
      "25\n"
     ]
    }
   ],
   "source": [
    "def exponent(x, e):\n",
    "    return(x**e)\n",
    "\n",
    "def square(x):\n",
    "    return(exponent(x, 2))\n",
    "\n",
    "def cube(x):\n",
    "    return(exponent(x, 3))\n",
    "\n",
    "print(cube(3))\n",
    "print(square(5))"
   ]
  },
  {
   "attachments": {},
   "cell_type": "markdown",
   "metadata": {},
   "source": [
    "Abstraction was used in the example above because there is shared behavior."
   ]
  },
  {
   "cell_type": "code",
   "execution_count": null,
   "metadata": {},
   "outputs": [],
   "source": [
    "def split_string(s):\n",
    "    words = s.split(\" \")\n",
    "    new_words = []\n",
    "    for word in words:\n",
    "        if word != \"\":\n",
    "            new_words.append(word)\n",
    "    return words\n",
    "\n",
    "def count_words_starting_with_letter(words, letter):\n",
    "    count = 0\n",
    "    for word in split_string(words):\n",
    "        if word.lower().startswith(letter):\n",
    "            count += 1\n",
    "    return count"
   ]
  },
  {
   "attachments": {},
   "cell_type": "markdown",
   "metadata": {},
   "source": [
    "In the code above, split_string(words) was abstracted into count_words_starting_with_letter(words, letter)"
   ]
  },
  {
   "attachments": {},
   "cell_type": "markdown",
   "metadata": {},
   "source": [
    "# 3.C Hacks\n",
    "- procedure names: names of procedures\n",
    "- arguments: values put through a function via parameters"
   ]
  },
  {
   "attachments": {},
   "cell_type": "markdown",
   "metadata": {},
   "source": [
    "<html>\n",
    "    <body>\n",
    "        <input type=\"text\" id=\"input1\" placeholder=\"First Number\">\n",
    "        <input type=\"text\" id=\"input2\" placeholder=\"Second Number\">\n",
    "        <button type=\"button\" onclick=\"add(1)\">Add</button>\n",
    "        <button type=\"button\" onclick=\"add(-1)\">Subtract</button>\n",
    "        <button type=\"button\" onclick=\"multiply(1)\">Multiply</button>\n",
    "        <button type=\"button\" onclick=\"multiply(-1)\">Divide</button>\n",
    "        <p id=\"result\">Result will appear here</p>\n",
    "    </body>\n",
    "</html>\n",
    "\n",
    "<script>\n",
    "    function add(x) {\n",
    "        document.getElementById(\"result\").innerHTML = \"Result is \" + parseInt(x * parseInt(document.getElementById(\"input2\").value) + parseInt(document.getElementById(\"input1\").value))\n",
    "    }\n",
    "    \n",
    "    function multiply(x) {\n",
    "        document.getElementById(\"result\").innerHTML = \"Result is \" + parseInt(parseInt(document.getElementById(\"input1\").value) * Math.pow(parseInt(document.getElementById(\"input2\").value), x))\n",
    "    }\n",
    "</script>"
   ]
  }
 ],
 "metadata": {
  "kernelspec": {
   "display_name": "Python 3.8.10 64-bit",
   "language": "python",
   "name": "python3"
  },
  "language_info": {
   "codemirror_mode": {
    "name": "ipython",
    "version": 3
   },
   "file_extension": ".py",
   "mimetype": "text/x-python",
   "name": "python",
   "nbconvert_exporter": "python",
   "pygments_lexer": "ipython3",
   "version": "3.8.10"
  },
  "orig_nbformat": 4,
  "vscode": {
   "interpreter": {
    "hash": "916dbcbb3f70747c44a77c7bcd40155683ae19c65e1c03b4aa3499c5328201f1"
   }
  }
 },
 "nbformat": 4,
 "nbformat_minor": 2
}
