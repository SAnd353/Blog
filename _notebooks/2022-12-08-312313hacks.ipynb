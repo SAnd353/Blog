{
 "cells": [
  {
   "attachments": {},
   "cell_type": "markdown",
   "metadata": {},
   "source": [
    "# 3.9 & 3.12 Hacks\n",
    "- title: 3.9 & 3.12 Hacks\n",
    "- toc: true"
   ]
  },
  {
   "attachments": {},
   "cell_type": "markdown",
   "metadata": {},
   "source": [
    "## 3.A Hacks\n",
    "- A procedure is a set of instructions that can be called with parameteres and can return values.\n",
    "- Return values are values that are outputted by procedures\n",
    "- Output parameters are parameters that procedures run by"
   ]
  },
  {
   "attachments": {},
   "cell_type": "markdown",
   "metadata": {},
   "source": [
    "![quizresult](https://raw.githubusercontent.com/SAnd353/Blog/master/images/312313quiz.png)"
   ]
  },
  {
   "cell_type": "code",
   "execution_count": 5,
   "metadata": {},
   "outputs": [
    {
     "name": "stdout",
     "output_type": "stream",
     "text": [
      "2.0\n"
     ]
    }
   ],
   "source": [
    "def squareRoot(x):\n",
    "    return(x**0.5)\n",
    "\n",
    "print(squareRoot(4))"
   ]
  },
  {
   "attachments": {},
   "cell_type": "markdown",
   "metadata": {},
   "source": [
    "## 3.B Hacks\n",
    "1. Abstracting away program logic into modular functions is effective because it avoids duplication and improves readability"
   ]
  },
  {
   "cell_type": "code",
   "execution_count": 9,
   "metadata": {},
   "outputs": [
    {
     "name": "stdout",
     "output_type": "stream",
     "text": [
      "27\n",
      "25\n"
     ]
    }
   ],
   "source": [
    "def exponent(x, e):\n",
    "    return(x**e)\n",
    "\n",
    "def square(x):\n",
    "    return(exponent(x, 2))\n",
    "\n",
    "def cube(x):\n",
    "    return(exponent(x, 3))\n",
    "\n",
    "print(cube(3))\n",
    "print(square(5))"
   ]
  },
  {
   "attachments": {},
   "cell_type": "markdown",
   "metadata": {},
   "source": [
    "Abstraction was used in the example above because there is shared behavior."
   ]
  },
  {
   "attachments": {},
   "cell_type": "markdown",
   "metadata": {},
   "source": [
    "# 3.C Hacks"
   ]
  },
  {
   "attachments": {},
   "cell_type": "markdown",
   "metadata": {},
   "source": [
    "<html>\n",
    "    <body>\n",
    "        <input type=\"text\" id=\"input1\" placeholder=\"First Number\">\n",
    "        <input type=\"text\" id=\"input2\" placeholder=\"Second Number\">\n",
    "        <button type=\"button\" onclick=add()>Add</button>\n",
    "        <button type=\"button\" onclick=subtract()>Subtract</button>\n",
    "        <button type=\"button\" onclick=multiply()>Multiply</button>\n",
    "        <button type=\"button\" onclick=divide()>Divide</button>\n",
    "        <p id=\"result\">Result will appear here</p>\n",
    "    </body>\n",
    "</html>\n",
    "\n",
    "<script>\n",
    "    function add() {\n",
    "        result = parseInt(document.getElementById(\"input1\").innerText) + parseInt(document.getElementById(\"input2\").innerText)\n",
    "        document.getElementbyId(\"result\").innertext = \"result is\" + result.toString()\n",
    "    }\n",
    "\n",
    "    function subtract() {\n",
    "        result = parseInt(document.getElementById(\"input1\").innerText) - parseInt(document.getElementById(\"input2\").innerText)\n",
    "        document.getElementbyId(\"result\").innertext = \"result is\" + result.toString()\n",
    "    }\n",
    "\n",
    "    function multiply() {\n",
    "        result = parseInt(document.getElementById(\"input1\").innerText) * parseInt(document.getElementById(\"input2\").innerText)\n",
    "        document.getElementbyId(\"result\").innertext = \"result is\" + result.toString()\n",
    "    }\n",
    "\n",
    "    function divide() {\n",
    "        result = parseInt(document.getElementById(\"input1\").innerText) / parseInt(document.getElementById(\"input2\").innerText)\n",
    "        document.getElementbyId(\"result\").innertext = \"result is\" + result.toString()\n",
    "    }\n",
    "</script>"
   ]
  },
  {
   "cell_type": "markdown",
   "metadata": {},
   "source": []
  }
 ],
 "metadata": {
  "kernelspec": {
   "display_name": "Python 3.8.10 64-bit",
   "language": "python",
   "name": "python3"
  },
  "language_info": {
   "codemirror_mode": {
    "name": "ipython",
    "version": 3
   },
   "file_extension": ".py",
   "mimetype": "text/x-python",
   "name": "python",
   "nbconvert_exporter": "python",
   "pygments_lexer": "ipython3",
   "version": "3.8.10"
  },
  "orig_nbformat": 4,
  "vscode": {
   "interpreter": {
    "hash": "916dbcbb3f70747c44a77c7bcd40155683ae19c65e1c03b4aa3499c5328201f1"
   }
  }
 },
 "nbformat": 4,
 "nbformat_minor": 2
}
