{
 "cells": [
  {
   "attachments": {},
   "cell_type": "markdown",
   "metadata": {},
   "source": [
    "# Final Project CPT Writeup\n",
    "> CPT-style writeup for my final project\n",
    "\n",
    "- title: Final Project CPT Writeup\n",
    "- toc: true"
   ]
  },
  {
   "attachments": {},
   "cell_type": "markdown",
   "metadata": {},
   "source": [
    "# Row 1: Program Purpose and Functionality\n",
    "- The purpose of my program is to make planning workouts easy and straight-forward for those who want to improve their physical fitness.\n",
    "- My program provides an interactive calendar for the current month to the user. The user can click on any day and add a workout in the resulting popup. Added workouts are shown in a box to the right with their corresponding dates. The user can freely add workouts, even to dates that already have workouts scheduled. The user can also delete all of the saved workouts as well as retroactively updating the dates on which workouts are saved. All of the saved workout data is kept in a backend database hosted on an AWS instance. The frontend and the backend communicate with each other, allowing the user to save and access data from different browser instances.\n",
    "- The inputs shown in the video is the user clicking on a day in the calendar (resulting in the output of a popup appearing), typing in the workout they want to schedule, hitting the \"Add\" button (resulting in the output of a popup disappearing and the inputted workout to be shown in the \"Scheduled Workouts\" box), hitting the edit button (resulting in the output of a popup appearing), typing in a day, hitting the \"Edit\" button (resulting in the output of a popup disappearing and the day of workout date clicked on to change to the inputted day), and then finally hitting the \"clear all\" button (resulting in the output of the saved workout being removed). "
   ]
  },
  {
   "attachments": {},
   "cell_type": "markdown",
   "metadata": {},
   "source": [
    "# Row 2: Data Abstraction"
   ]
  },
  {
   "cell_type": "code",
   "execution_count": null,
   "metadata": {
    "vscode": {
     "languageId": "javascript"
    }
   },
   "outputs": [],
   "source": [
    "    targetDates = [];\n",
    "    console.log(notemptyvalues);\n",
    "    for (const k in notemptyvalues) { // finding which dates exist in backend\n",
    "        console.log(\"Pushing \" + k)\n",
    "        targetDates.push(k);\n",
    "    }"
   ]
  },
  {
   "cell_type": "code",
   "execution_count": null,
   "metadata": {
    "vscode": {
     "languageId": "javascript"
    }
   },
   "outputs": [],
   "source": [
    "    send_Data(\"delete\", \"DELETE\", {targetDates: targetDates})"
   ]
  },
  {
   "attachments": {},
   "cell_type": "markdown",
   "metadata": {},
   "source": [
    "- The name of the list is \"targetDates\"\n",
    "- The data in the list represents the dates in which the backend database has workouts saved for (notemptyvalues is an object that stores dates that have workouts saved and their corresponding workouts and is representative of the backend database)"
   ]
  },
  {
   "attachments": {},
   "cell_type": "markdown",
   "metadata": {},
   "source": [
    "# Row 3: Managing Complexity"
   ]
  },
  {
   "cell_type": "code",
   "execution_count": null,
   "metadata": {
    "vscode": {
     "languageId": "javascript"
    }
   },
   "outputs": [],
   "source": [
    "function clearWorkouts() {\n",
    "    console.log(savedEvents);\n",
    "    targetDates = [];\n",
    "    console.log(notemptyvalues);\n",
    "    for (const k in notemptyvalues) { // finding which dates exist in backend\n",
    "        console.log(\"Pushing \" + k)\n",
    "        targetDates.push(k);\n",
    "    }\n",
    "    for(var day in savedEvents) {\n",
    "        savedEvents[day] = [];\n",
    "        console.log(\"cleared \" + savedEvents)\n",
    "    }\n",
    "    applySavedData();\n",
    "\n",
    "    console.log(targetDates)\n",
    "    send_Data(\"delete\", \"DELETE\", {targetDates: targetDates}) // deleting entries in BE table\n",
    "}"
   ]
  },
  {
   "attachments": {},
   "cell_type": "markdown",
   "metadata": {},
   "source": [
    "- The list \"targetDates\" manages complexity by allowing the code to easily and flexibly send a DELETE request with all of the dates to be removed from the backend database. If I didn't use a list here, I would have had to code logic for sending a DELETE request for every date to be removed. This would be totally unfeasible because the number of dates to be removed from the backend database and which dates to be removed both have to be totally flexible. A list is flexible in its length and content, so it provides the perfect solution."
   ]
  },
  {
   "attachments": {},
   "cell_type": "markdown",
   "metadata": {},
   "source": [
    "# Row 4: Procedural Abstraction"
   ]
  },
  {
   "cell_type": "code",
   "execution_count": null,
   "metadata": {
    "vscode": {
     "languageId": "javascript"
    }
   },
   "outputs": [],
   "source": [
    "function applydata(data) { // Loading data from BE into savedEvents\n",
    "    console.log(data);\n",
    "    for (const row of data) {\n",
    "        console.log(row);\n",
    "        console.log(row[\"date\"]);\n",
    "        if (row[\"date\"] in savedEvents) {\n",
    "            savedEvents[row[\"date\"]] = row[\"savedWorkouts\"]\n",
    "        }\n",
    "        else {\n",
    "            console.log(row[\"date\"] + \" is not in the current month.\")\n",
    "        }\n",
    "    }\n",
    "    console.log(savedEvents);\n",
    "    applySavedData();\n",
    "}"
   ]
  },
  {
   "cell_type": "code",
   "execution_count": null,
   "metadata": {
    "vscode": {
     "languageId": "javascript"
    }
   },
   "outputs": [],
   "source": [
    "fetch('https://lennsflask.duckdns.org/api/etrack_users/') // simple GET request\n",
    "  .then((response) => response.json())\n",
    "  .then((data) => this.applydata(data));"
   ]
  },
  {
   "attachments": {},
   "cell_type": "markdown",
   "metadata": {},
   "source": [
    "- The procedure applydata(data) is used to process data from the backend database. It iterates through each dictionary (each dictionary is a row in the table) and applies the corresponding date and saved workouts to savedEvents if the date is in savedEvents (meaning that it is for the current month) and finally calls a different function, applySavedData(). The procedure applydata(data) contributes to the overall functionality of the program by processing the raw data from the backend and adding it to savedEvents, making the data usable, allowing for the frontend to use data from the backend, allowing for the user to access data from different browswer instances."
   ]
  },
  {
   "attachments": {},
   "cell_type": "markdown",
   "metadata": {},
   "source": [
    "# Row 5: Algorithm Implementation"
   ]
  },
  {
   "cell_type": "code",
   "execution_count": null,
   "metadata": {
    "vscode": {
     "languageId": "javascript"
    }
   },
   "outputs": [],
   "source": [
    "notemptyvalues= {};\n",
    "for (const [k, v] of Object.entries(savedEvents)) {\n",
    "    document.getElementById(k.split(\" \")[0]).style.color=\"\";\n",
    "    if (v.length) { // getting days with events saved\n",
    "        notemptyvalues[k] = v;\n",
    "        document.getElementById(k.split(\" \")[0]).style.color=\"cyan\"; // day highlighting\n",
    "    }\n",
    "}"
   ]
  },
  {
   "attachments": {},
   "cell_type": "markdown",
   "metadata": {},
   "source": [
    "- The algorithm first defines notemptyvalues as an empty dictionary, then iterates through key and value pairs in the savedEvents object. For every pair, the corresponding calendar day's text color style is firstly removed. Then, if the value has length (checking if the value isn't empty), the key and value pair is added to notemptyvalues and the corresponding calendar day's text color style is set to cyan."
   ]
  },
  {
   "attachments": {},
   "cell_type": "markdown",
   "metadata": {},
   "source": [
    "# Row 6: Testing\n",
    "1. Call 1: calling applyData(data) with the parameter set to data from the backend whose dates are from a month that is not the current month. This tests for when the month changes and the data in the backend becomes outdated.\n",
    "2. Call 2: calling applyData(data) with the parameter set to data from the backend whose dates are only from the current month. This tests for typical conditions (data in the backend isn't outdated and is relevant).\n",
    "\n",
    "- Call 1 results in the data from the backend not being processed into a usable form for the frontend.\n",
    "- Call 2 results in all of the data from the backend being processed into a usable form for the frontend."
   ]
  }
 ],
 "metadata": {
  "kernelspec": {
   "display_name": "Python 3",
   "language": "python",
   "name": "python3"
  },
  "language_info": {
   "name": "python",
   "version": "3.8.10"
  },
  "orig_nbformat": 4,
  "vscode": {
   "interpreter": {
    "hash": "916dbcbb3f70747c44a77c7bcd40155683ae19c65e1c03b4aa3499c5328201f1"
   }
  }
 },
 "nbformat": 4,
 "nbformat_minor": 2
}
