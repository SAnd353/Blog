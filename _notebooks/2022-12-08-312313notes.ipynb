{
 "cells": [
  {
   "attachments": {},
   "cell_type": "markdown",
   "metadata": {},
   "source": [
    "# 3.12 & 3.13 Notes\n",
    "- title: 3.12 & 3.13 Notes\n",
    "- toc: true"
   ]
  },
  {
   "attachments": {},
   "cell_type": "markdown",
   "metadata": {},
   "source": [
    "## 3.12 Notes\n",
    "- procedure (aka methods or functions) - a named set of instructions that can use parameters and return values"
   ]
  },
  {
   "cell_type": "code",
   "execution_count": 1,
   "metadata": {},
   "outputs": [
    {
     "name": "stdout",
     "output_type": "stream",
     "text": [
      "2\n"
     ]
    }
   ],
   "source": [
    "def subtract(x, y):\n",
    "    return(x-y)\n",
    "\n",
    "print(subtract(4, 2))"
   ]
  },
  {
   "attachments": {},
   "cell_type": "markdown",
   "metadata": {},
   "source": [
    "- call a procedure with the procedure name and a set of parentheses\n",
    "### Determining the result of a Procedure\n",
    "- return statements result in exiting a function and continued execution of the program\n",
    "- use parameters to avoid having to retype things"
   ]
  },
  {
   "attachments": {},
   "cell_type": "markdown",
   "metadata": {},
   "source": [
    "## 3.13 Notes\n",
    "- Modularity - breaking a complex program into modules\n",
    "- Abstraction - hiding details of how something functions and only revealing as much as needed\n",
    "- Duplication - having duplicate code blocks (bad for readability and efficiency)\n",
    "- Logic - a sequence of steps that a computer follows to execute a program\n",
    "- parameters can be used in functinos to avoid duplication\n",
    "- shared code should be abstracted\n",
    "### Formatting a Procedure\n",
    "- collegeboard uses \"PROCEDURE\", \"parameter1\" (\"parameter2\", etc.), and a block of statements\n",
    "- python uses the format \n",
    "- def function(a,b): \n",
    "- followed by statements indented\n",
    "- javascript uses \n",
    "- function Function (a,b) {\n",
    "- } \n",
    "- and the statements go in the curly braces"
   ]
  }
 ],
 "metadata": {
  "kernelspec": {
   "display_name": "Python 3.8.10 64-bit",
   "language": "python",
   "name": "python3"
  },
  "language_info": {
   "codemirror_mode": {
    "name": "ipython",
    "version": 3
   },
   "file_extension": ".py",
   "mimetype": "text/x-python",
   "name": "python",
   "nbconvert_exporter": "python",
   "pygments_lexer": "ipython3",
   "version": "3.8.10"
  },
  "orig_nbformat": 4,
  "vscode": {
   "interpreter": {
    "hash": "916dbcbb3f70747c44a77c7bcd40155683ae19c65e1c03b4aa3499c5328201f1"
   }
  }
 },
 "nbformat": 4,
 "nbformat_minor": 2
}
