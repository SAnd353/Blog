{
 "cells": [
  {
   "cell_type": "markdown",
   "metadata": {},
   "source": [
    "# 3.8.1 Hacks\n",
    "\n",
    "- An iteration is a repeating set of statements that repeat a specified number of times or on a condition\n",
    "\n",
    "# Iteration example\n",
    "1. Work on homework assignment\n",
    "2. If tired, take a break\n",
    "3. Resume homework\n",
    "4. Repeat steps 1-3 until homework assignment is complete"
   ]
  },
  {
   "cell_type": "code",
   "execution_count": 1,
   "metadata": {},
   "outputs": [
    {
     "name": "stdout",
     "output_type": "stream",
     "text": [
      "apple\n",
      "banana\n",
      "orange\n",
      "lemon\n"
     ]
    }
   ],
   "source": [
    "# Simple iteration\n",
    "fruit = [\"apple\", \"banana\", \"orange\", \"lemon\"]\n",
    "for i in fruit:\n",
    "    print(i)"
   ]
  },
  {
   "cell_type": "markdown",
   "metadata": {},
   "source": [
    "# 3.8.2 Hacks\n",
    "\n",
    "- An iteration statement is a statement that makes one or more statements repeat a specified number of times or on a condition"
   ]
  },
  {
   "cell_type": "code",
   "execution_count": 3,
   "metadata": {},
   "outputs": [
    {
     "name": "stdout",
     "output_type": "stream",
     "text": [
      "10\n",
      "9\n",
      "8\n",
      "7\n",
      "6\n",
      "5\n",
      "4\n",
      "3\n",
      "2\n",
      "1\n"
     ]
    }
   ],
   "source": [
    "max = 10\n",
    "for i in range(max):\n",
    "    print(max -i)"
   ]
  },
  {
   "cell_type": "code",
   "execution_count": 4,
   "metadata": {},
   "outputs": [
    {
     "name": "stdout",
     "output_type": "stream",
     "text": [
      "3\n",
      "16\n",
      "29\n",
      "42\n",
      "55\n",
      "68\n",
      "81\n"
     ]
    }
   ],
   "source": [
    "start = 3\n",
    "while start <= 81:\n",
    "    print(start)\n",
    "    start += 13"
   ]
  },
  {
   "cell_type": "markdown",
   "metadata": {},
   "source": [
    "# 3.10 Hacks"
   ]
  },
  {
   "cell_type": "markdown",
   "metadata": {},
   "source": [
    "<!-- ![quiz result]({{ site.baseurl }}/images/38310quizresult.png) -->"
   ]
  },
  {
   "cell_type": "code",
   "execution_count": 7,
   "metadata": {},
   "outputs": [
    {
     "name": "stdout",
     "output_type": "stream",
     "text": [
      "Lowest value is 10\n"
     ]
    }
   ],
   "source": [
    "#Hack - Lowest value in a list\n",
    "nums = [\"10\", \"15\", \"20\", \"25\", \"30\", \"35\"]\n",
    "min = nums[0]\n",
    "for i in nums:\n",
    "    if int(min) > int(i):\n",
    "        min = i\n",
    "print(\"Lowest value is \" + min)"
   ]
  }
 ],
 "metadata": {
  "kernelspec": {
   "display_name": "Python 3.8.10 64-bit",
   "language": "python",
   "name": "python3"
  },
  "language_info": {
   "codemirror_mode": {
    "name": "ipython",
    "version": 3
   },
   "file_extension": ".py",
   "mimetype": "text/x-python",
   "name": "python",
   "nbconvert_exporter": "python",
   "pygments_lexer": "ipython3",
   "version": "3.8.10"
  },
  "orig_nbformat": 4,
  "vscode": {
   "interpreter": {
    "hash": "916dbcbb3f70747c44a77c7bcd40155683ae19c65e1c03b4aa3499c5328201f1"
   }
  }
 },
 "nbformat": 4,
 "nbformat_minor": 2
}
