{
 "cells": [
  {
   "cell_type": "markdown",
   "metadata": {},
   "source": [
    "# Javascript\n",
    "> The following is some javascript"
   ]
  },
  {
   "cell_type": "code",
   "execution_count": 10,
   "metadata": {},
   "outputs": [],
   "source": [
    "function add(num1, num2) {\n",
    "    console.log(num1+num2)\n",
    "}\n",
    "\n",
    "function subtract(num1, num2) {\n",
    "    console.log(num1-num2)\n",
    "}\n",
    "\n",
    "function multiply(num1, num2) {\n",
    "    console.log(num1*num2)\n",
    "}\n",
    "\n",
    "function divide(num1, num2) {\n",
    "    console.log(num1/num2)\n",
    "}"
   ]
  },
  {
   "cell_type": "code",
   "execution_count": 12,
   "metadata": {},
   "outputs": [
    {
     "name": "stdout",
     "output_type": "stream",
     "text": [
      "16\n",
      "-21\n",
      "303874816698954\n",
      "742047411215.75\n"
     ]
    }
   ],
   "source": [
    "add(1, 15)\n",
    "subtract(-1, 20)\n",
    "multiply(328902309, 923906)\n",
    "divide(8904568934589,12)"
   ]
  }
 ],
 "metadata": {
  "kernelspec": {
   "display_name": "JavaScript (Node.js)",
   "language": "javascript",
   "name": "javascript"
  },
  "language_info": {
   "file_extension": ".js",
   "mimetype": "application/javascript",
   "name": "javascript",
   "version": "6.11.2"
  },
  "orig_nbformat": 4,
  "vscode": {
   "interpreter": {
    "hash": "916dbcbb3f70747c44a77c7bcd40155683ae19c65e1c03b4aa3499c5328201f1"
   }
  }
 },
 "nbformat": 4,
 "nbformat_minor": 2
}
