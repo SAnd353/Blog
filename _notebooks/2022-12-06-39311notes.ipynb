{
 "cells": [
  {
   "attachments": {},
   "cell_type": "markdown",
   "metadata": {},
   "source": [
    "# 3.9 & 3.11 Notes\n",
    "- toc: true\n",
    "- title: 3.9 & 3.11 Notes\n",
    "- categories: [Notes]"
   ]
  },
  {
   "cell_type": "markdown",
   "metadata": {},
   "source": [
    "# Algorithms\n",
    "- Components of an algorithm: sequence, selection, iteration\n",
    "- small differences in algorithms can be very important\n",
    "- similar algorithms can function in very different ways/have different flaws\n",
    "- there can be multiple valid approaches to the same problem"
   ]
  },
  {
   "cell_type": "markdown",
   "metadata": {},
   "source": [
    "# Developing Algorithms\n",
    "- outline the process beforehand to make sure sequencing is correct\n",
    "- representations of code like flowcharts can help\n",
    "- make sure to include a start and an end in flowcharts"
   ]
  },
  {
   "cell_type": "code",
   "execution_count": 1,
   "metadata": {},
   "outputs": [
    {
     "name": "stdout",
     "output_type": "stream",
     "text": [
      "0\n",
      "1\n",
      "2\n",
      "3\n",
      "4\n",
      "5\n",
      "6\n",
      "7\n",
      "8\n",
      "9\n",
      "10\n"
     ]
    }
   ],
   "source": [
    "# Iteration example\n",
    "for i in range(11):\n",
    "    print(i)"
   ]
  },
  {
   "cell_type": "markdown",
   "metadata": {},
   "source": [
    "# Using preexisting algorithmms\n",
    "- existing algorithms such as finding the min or max, computing sum or average, and determining if an integer is even or odd are useful\n",
    "- reduce development time"
   ]
  },
  {
   "cell_type": "code",
   "execution_count": 2,
   "metadata": {},
   "outputs": [
    {
     "name": "stdout",
     "output_type": "stream",
     "text": [
      "50\n",
      "76.0\n",
      "38.0\n",
      "58.0\n",
      "88.0\n",
      "44.0\n",
      "22.0\n",
      "34.0\n",
      "52.0\n",
      "26.0\n"
     ]
    }
   ],
   "source": [
    "num = int(input(\"Input a natural number \"))\n",
    "for i in range(10):\n",
    "    print(num)\n",
    "    if num % 2 == 0:\n",
    "        num = num/2\n",
    "    if num % 2 == 1:\n",
    "        num= 3 * num +1"
   ]
  },
  {
   "cell_type": "markdown",
   "metadata": {},
   "source": [
    "# Binary search\n",
    "- put numbers in ascending order\n",
    "- split search interval in half repeatedly"
   ]
  },
  {
   "cell_type": "code",
   "execution_count": null,
   "metadata": {},
   "outputs": [],
   "source": []
  }
 ],
 "metadata": {
  "kernelspec": {
   "display_name": "Python 3.8.10 64-bit",
   "language": "python",
   "name": "python3"
  },
  "language_info": {
   "codemirror_mode": {
    "name": "ipython",
    "version": 3
   },
   "file_extension": ".py",
   "mimetype": "text/x-python",
   "name": "python",
   "nbconvert_exporter": "python",
   "pygments_lexer": "ipython3",
   "version": "3.8.10 (default, Jun 22 2022, 20:18:18) \n[GCC 9.4.0]"
  },
  "orig_nbformat": 4,
  "vscode": {
   "interpreter": {
    "hash": "916dbcbb3f70747c44a77c7bcd40155683ae19c65e1c03b4aa3499c5328201f1"
   }
  }
 },
 "nbformat": 4,
 "nbformat_minor": 2
}
