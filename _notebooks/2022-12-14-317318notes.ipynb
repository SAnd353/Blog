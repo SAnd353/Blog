{
 "cells": [
  {
   "attachments": {},
   "cell_type": "markdown",
   "metadata": {},
   "source": [
    "# 3.17 & 3.18 Notes\n",
    "- title: Collegeboard Lesson 3.17 & 3.18 Notes\n",
    "- toc: true\n",
    "- categories: [Lesson_Notes]"
   ]
  },
  {
   "attachments": {},
   "cell_type": "markdown",
   "metadata": {},
   "source": [
    "## Undecidable Problems\n",
    "- Undecidable problems are problems that no algorithm can answer all inputs correctly (3x+1/Collatz/Hailstone numbers)\n",
    "- Collatz Conjecture states that all numbers reach one, but this may not be true (Undecidable)\n",
    "- Unsolvable problems are problems where no algorithm can find solutions"
   ]
  },
  {
   "attachments": {},
   "cell_type": "markdown",
   "metadata": {},
   "source": [
    "## Algorithmic Efficiency\n",
    "- The number of steps an algorithm needs to solve a problem\n",
    "- saving memory, processing power, and time\n",
    "- Automation!!!!!"
   ]
  },
  {
   "cell_type": "code",
   "execution_count": null,
   "metadata": {},
   "outputs": [],
   "source": []
  }
 ],
 "metadata": {
  "kernelspec": {
   "display_name": "Python 3",
   "language": "python",
   "name": "python3"
  },
  "language_info": {
   "name": "python",
   "version": "3.8.10 (default, Jun 22 2022, 20:18:18) \n[GCC 9.4.0]"
  },
  "orig_nbformat": 4,
  "vscode": {
   "interpreter": {
    "hash": "916dbcbb3f70747c44a77c7bcd40155683ae19c65e1c03b4aa3499c5328201f1"
   }
  }
 },
 "nbformat": 4,
 "nbformat_minor": 2
}
