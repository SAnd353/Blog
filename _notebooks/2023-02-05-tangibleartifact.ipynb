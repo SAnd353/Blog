{
 "cells": [
  {
   "attachments": {},
   "cell_type": "markdown",
   "metadata": {},
   "source": [
    "# Tangible Artifact Blog\n",
    "> Blogging about my tangible artifact (with code snippets)\n",
    "\n",
    "- title: Tangible Artifact Blog\n",
    "- toc: true"
   ]
  },
  {
   "attachments": {},
   "cell_type": "markdown",
   "metadata": {},
   "source": [
    "# My tangible artifact is a live-generated calendar (for the current month) with clickable days.\n",
    "- this is largely done with Javascript.\n",
    "- It makes use of Javascript's built in Date() object functionality"
   ]
  },
  {
   "cell_type": "code",
   "execution_count": null,
   "metadata": {
    "vscode": {
     "languageId": "javascript"
    }
   },
   "outputs": [],
   "source": [
    "const date = new Date();\n",
    "\n",
    "const day = date.getDate();\n",
    "const month = date.getMonth();\n",
    "const year = date.getFullYear();\n",
    "const daysInMonth = new Date(year, month + 1, 0).getDate();\n",
    "const firstDayOfMonth = new Date(year, month, 1);"
   ]
  },
  {
   "attachments": {},
   "cell_type": "markdown",
   "metadata": {},
   "source": [
    "- The JS creates \"daySquare\" elements based upon the current month and current day of the week\n",
    "- In the function that creates \"daySquare\" elements, the number of days in the first week of the month being generated that belong to the previous month is accounted for\n",
    "    - This is so that the function can create an appropriate number of \"padding days\"\n",
    "- Furthermore, whenever a daySquare is created, addeventlistener is used to make them clickable buttons"
   ]
  },
  {
   "cell_type": "code",
   "execution_count": null,
   "metadata": {
    "vscode": {
     "languageId": "javascript"
    }
   },
   "outputs": [],
   "source": [
    "const weekdays = ['Sunday', 'Monday', 'Tuesday', 'Wednesday', 'Thursday', 'Friday', 'Saturday'];\n",
    "\n",
    "const dateString = firstDayOfMonth.toLocaleDateString('en-US', {\n",
    "    weekday: 'long',\n",
    "    year: 'numeric',\n",
    "    month: 'numeric',\n",
    "    day: 'numeric', \n",
    "\n",
    "});\n",
    "\n",
    "const prevDays = weekdays.indexOf(dateString.split(', ')[0]);\n",
    "for(let i = 1; i <= prevDays + daysInMonth; i++) {\n",
    "    const daySquare = document.createElement('div');\n",
    "    daySquare.classList.add('day');\n",
    "\n",
    "    if (i > prevDays) {\n",
    "        daySquare.innerText = i - prevDays;\n",
    "        daySquare.addEventListener('click', () => openPopup(daySquare.innerHTML));\n",
    "        savedEvents[daySquare.innerHTML + ' ' + document.getElementById(\"calendarHeader\").innerText + ' workout(s)'] = Array();\n",
    "    } \n",
    "    else {\n",
    "        daySquare.classList.add('padding');\n",
    "    }\n",
    "calendar.appendChild(daySquare);\n",
    "}"
   ]
  },
  {
   "attachments": {},
   "cell_type": "markdown",
   "metadata": {},
   "source": [
    "# Things to work on and improve\n",
    "- Instead of making the days, when clicked, immediately ask for a new workout, make them open the currently saved workouts to the side and have buttons for adding, removing, and changing workouts there (Making things more intelligent)\n",
    "- Saving and retrieving data to the backend (POST and GET requests with fetch())\n",
    "- Making it more space-efficient (currently does NOT work well with site-theme (Modernist))"
   ]
  }
 ],
 "metadata": {
  "kernelspec": {
   "display_name": "Python 3",
   "language": "python",
   "name": "python3"
  },
  "language_info": {
   "name": "python",
   "version": "3.8.10"
  },
  "orig_nbformat": 4,
  "vscode": {
   "interpreter": {
    "hash": "916dbcbb3f70747c44a77c7bcd40155683ae19c65e1c03b4aa3499c5328201f1"
   }
  }
 },
 "nbformat": 4,
 "nbformat_minor": 2
}
