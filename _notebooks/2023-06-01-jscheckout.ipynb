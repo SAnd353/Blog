{
 "cells": [
  {
   "attachments": {},
   "cell_type": "markdown",
   "metadata": {},
   "source": [
    "# Javascript Checkout\n",
    "> My javascript checkout\n",
    "- toc: true"
   ]
  },
  {
   "attachments": {},
   "cell_type": "markdown",
   "metadata": {},
   "source": [
    "## Below is the JS for my checkout separated and with developer's commentary"
   ]
  },
  {
   "cell_type": "code",
   "execution_count": null,
   "metadata": {
    "vscode": {
     "languageId": "javascript"
    }
   },
   "outputs": [],
   "source": [
    "bigbox = document.getElementById(\"bigbox\");\n",
    "boxlist = []\n",
    "let score;\n",
    "for (let i=1; i<26; i++) {\n",
    "    const square = document.createElement(\"div\");\n",
    "    square.addEventListener(\"click\", () => wack(i))\n",
    "    square.setAttribute(\"id\", i)\n",
    "    square.classList.add(\"square\");\n",
    "    bigbox.appendChild(square)\n",
    "    boxlist.push(i);\n",
    "}"
   ]
  },
  {
   "attachments": {},
   "cell_type": "markdown",
   "metadata": {},
   "source": [
    "The above code creates 25 boxes that get appended to bigbox. The styling for the elements ensures that it creates a 5x5 grid. Each box calls the wack() function with a parameter 1-25 when clicked. The parameter is the same as the respective id."
   ]
  },
  {
   "cell_type": "code",
   "execution_count": null,
   "metadata": {
    "vscode": {
     "languageId": "javascript"
    }
   },
   "outputs": [],
   "source": [
    "let stopwatch;\n",
    "timer = 30;\n",
    "function start() {\n",
    "    if (timer==30) {\n",
    "        timer = 0;\n",
    "        console.log(\"starting\")\n",
    "        score = 0;\n",
    "        document.getElementById(\"time\").innerText = \"Time Left: 30\";\n",
    "        document.getElementById(\"score\").innerText = \"Score: 0\";\n",
    "        stopwatch = setInterval(clock, 1000)\n",
    "        light(String(Math.floor(Math.random() * 25)))\n",
    "    }\n",
    "}"
   ]
  },
  {
   "attachments": {},
   "cell_type": "markdown",
   "metadata": {},
   "source": [
    "The code above starts the game. It creates the stopwatch variable and the timer variable (counts the seconds that have passed since game start). When start() is called, everything gets reset and stopwatch is started. The light() function is called to \"light\" a random box."
   ]
  },
  {
   "cell_type": "code",
   "execution_count": null,
   "metadata": {
    "vscode": {
     "languageId": "javascript"
    }
   },
   "outputs": [],
   "source": [
    "function clock() {\n",
    "    timer++;\n",
    "    console.log(timer)\n",
    "    if (timer >= 30) {\n",
    "        clearInterval(stopwatch);\n",
    "        newlit.style.backgroundColor = \"\";\n",
    "        newlitid = \"-1\"\n",
    "    }\n",
    "    document.getElementById(\"time\").innerText = \"Time Left: \" + String(30-timer)\n",
    "}"
   ]
  },
  {
   "attachments": {},
   "cell_type": "markdown",
   "metadata": {},
   "source": [
    "The above code is the clock() function. It is called once per second and updates the UI accordingly. Once timer meets 30, the game ends and the lit box is cleared."
   ]
  },
  {
   "cell_type": "code",
   "execution_count": null,
   "metadata": {
    "vscode": {
     "languageId": "javascript"
    }
   },
   "outputs": [],
   "source": [
    "function light(id) {\n",
    "    console.log(\"lighting\")\n",
    "    templist = [1,2,3,4,5,6,7,8,9,10,11,12,13,14,15,16,17,18,19,20,21,22,23,24,25]\n",
    "    templist.splice(parseInt(id) -1, 1);\n",
    "    console.log(templist)\n",
    "    newlitid = templist[String(Math.floor(Math.random() * 24))]\n",
    "    console.log(newlitid)\n",
    "    newlit = document.getElementById(newlitid);\n",
    "    newlit.style.backgroundColor = \"red\";\n",
    "}"
   ]
  },
  {
   "attachments": {},
   "cell_type": "markdown",
   "metadata": {},
   "source": [
    "The above code is the light() function. The parameter it is called with refers to the id of the box that was just wacked, so it removes this id from the list of IDs so that two boxes can't be lit in a row. A new box to be lit is randomly generated with newlitid and that id is used to light up the associated box."
   ]
  },
  {
   "cell_type": "code",
   "execution_count": null,
   "metadata": {
    "vscode": {
     "languageId": "javascript"
    }
   },
   "outputs": [],
   "source": [
    "function wack(id) {\n",
    "    if (newlitid == id) {\n",
    "        score = score +2;\n",
    "        document.getElementById(\"score\").innerText = \"Score: \" + score;\n",
    "        document.getElementById(id).style.backgroundColor = \"\";\n",
    "        light(id)\n",
    "    } else {\n",
    "        score--;\n",
    "        document.getElementById(\"score\").innerText = \"Score: \" + score;\n",
    "    }\n",
    "\n",
    "}"
   ]
  },
  {
   "attachments": {},
   "cell_type": "markdown",
   "metadata": {},
   "source": [
    "The above code is the wack function. It checks for if the wacked box matches the lit box. If so, the score is increased by 2 and another box is lit. If it doesn't, score is decreased by 1."
   ]
  }
 ],
 "metadata": {
  "language_info": {
   "name": "python"
  },
  "orig_nbformat": 4
 },
 "nbformat": 4,
 "nbformat_minor": 2
}
