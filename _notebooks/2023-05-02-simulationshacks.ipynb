{
 "cells": [
  {
   "attachments": {},
   "cell_type": "markdown",
   "metadata": {},
   "source": [
    "# Hacks for Simulations lesson\n",
    "> Hacks for the simulations student lesson\n",
    "- toc: true"
   ]
  },
  {
   "attachments": {},
   "cell_type": "markdown",
   "metadata": {},
   "source": [
    "## Comparing Lists and Dictionaries\n",
    "|  | Pros | Cons |\n",
    "|--|------|------|\n",
    "| Dictionaries | <li>Automatically removes duplicate keys</li><li><b>Greater capacity for organization</b></li><li>Typically have faster look-up times</li><li><b>Perfect for bivariate data (Two-dimensional)</b></li> | <li>Not applicable to as many situations</li><li>Occupy lots of space</li><li><b>More complex</b></li> |\n",
    "| Lists | <li>Simple</li><li><b>VERY Flexible</b></li><li><b>EXTREMELY versatile</b></li><li>Occupy less space</li> | <li>Can get very messy when nesting lists</li><li><b>Limited to one dimension</b></li> |"
   ]
  },
  {
   "attachments": {},
   "cell_type": "markdown",
   "metadata": {},
   "source": [
    "## My own dictionary"
   ]
  },
  {
   "cell_type": "code",
   "execution_count": 6,
   "metadata": {},
   "outputs": [
    {
     "name": "stdout",
     "output_type": "stream",
     "text": [
      "Track 1: I Forgot to make a review ticket by Me\n",
      "Track 2: Still waiting for Summer by Me\n",
      "Track 3: Lover /s by Me\n",
      "Track 4: The Mortensen by Me\n",
      "Track 5: The Yeung by Me\n",
      "Track 6: i don't think he likes dillon tbh by Me\n",
      "Track 7: Miss CSP & The seed point by Me\n",
      "Track 8: Do you have paper (rings) out???? by Me\n",
      "Track 9: Code Code Code Street by Me\n",
      "Track 10: Death By A Thousand slash slash slashes by Me\n",
      "Track 11: Swifty Boy by Me\n",
      "Track 12: Soon You'll Get a Better grade (feat. hope) by Me\n",
      "Track 13: False ChatGPT by Me\n",
      "Track 14: You Need To Redo by Me\n",
      "Track 15: AfterN@TM by Me\n",
      "Track 16: M(inus one s)e(ed point)! (feat. Teachers of Panic! At CSP) by Me\n",
      "Track 17: It's Nice To Have A Scrum Master by Me\n",
      "Track 18: All-nighter by Me\n"
     ]
    }
   ],
   "source": [
    "CSP_album = {\n",
    "    \"title\": \"CSP\",\n",
    "    \"artist\": \"Me\",\n",
    "    \"year\": 2023,\n",
    "    \"genre\": [\"Satire\"],\n",
    "    \"tracks\": {\n",
    "        1: \"I Forgot to make a review ticket\",\n",
    "        2: \"Still waiting for Summer\",\n",
    "        3: \"Lover /s\",\n",
    "        4: \"The Mortensen\",\n",
    "        5: \"The Yeung\",\n",
    "        6: \"i don't think he likes dillon tbh\",\n",
    "        7: \"Miss CSP & The seed point\",\n",
    "        8: \"Do you have paper (rings) out????\",\n",
    "        9: \"Code Code Code Street\",\n",
    "        10: \"Death By A Thousand slash slash slashes\",\n",
    "        11: \"Swifty Boy\",\n",
    "        12: \"Soon You'll Get a Better grade (feat. hope)\",\n",
    "        13: \"False ChatGPT\",\n",
    "        14: \"You Need To Redo\",\n",
    "        15: \"AfterN@TM\",\n",
    "        16: \"M(inus one s)e(ed point)! (feat. Teachers of Panic! At CSP)\",\n",
    "        17: \"It's Nice To Have A Scrum Master\",\n",
    "        18: \"All-nighter\"\n",
    "    },\n",
    "    \"secret B-oss\": {\n",
    "        19: \"SQLite Operational Error: Could not open database\"\n",
    "    }\n",
    "}\n",
    "\n",
    "for i in CSP_album[\"tracks\"]:\n",
    "    print(\"Track \" + str(i) + \": \" + CSP_album[\"tracks\"][i] + \" by \" + CSP_album[\"artist\"])"
   ]
  },
  {
   "attachments": {},
   "cell_type": "markdown",
   "metadata": {},
   "source": [
    "## [My own simulation of wack-a-mole](https://sand353.github.io/Blog/_pages/2023-04-27-wackamole.html)\n",
    "> due to the nature of the simulation it ends up more like an aim-trainer\n",
    "- My simulation creates 25 grey boxes and one of them lights up (turns red) at a time while the timer is active. Clicking on a red box makes it return to being grey and a different box turns red. The objective of the game is to click on as many red boxes as possible while clicking on as few grey boxes as possible in 30 seconds. Clicking on a red square increases the score by 2 and clicking on a gray square decreases the score by 1. This is supposed to simulate wack-a-mole gameplay."
   ]
  },
  {
   "attachments": {},
   "cell_type": "markdown",
   "metadata": {},
   "source": [
    "## Kahoot score: 7 or 8 out of 10 (I'm not too sure)\n",
    "- I'll review past lessons from Mortensen and Yeung and this lesson as well to study lists/simulations/dictionaries further if necessary"
   ]
  }
 ],
 "metadata": {
  "kernelspec": {
   "display_name": "base",
   "language": "python",
   "name": "python3"
  },
  "language_info": {
   "codemirror_mode": {
    "name": "ipython",
    "version": 3
   },
   "file_extension": ".py",
   "mimetype": "text/x-python",
   "name": "python",
   "nbconvert_exporter": "python",
   "pygments_lexer": "ipython3",
   "version": "3.9.12"
  },
  "orig_nbformat": 4
 },
 "nbformat": 4,
 "nbformat_minor": 2
}
