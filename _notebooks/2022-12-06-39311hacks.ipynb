{
 "cells": [
  {
   "attachments": {},
   "cell_type": "markdown",
   "metadata": {},
   "source": [
    "# 3.9 & 3.11 Hacks\n",
    "- title: 3.9 & 3.11 Hacks\n",
    "- toc: true"
   ]
  },
  {
   "attachments": {},
   "cell_type": "markdown",
   "metadata": {},
   "source": [
    "## 3.9.1 Hacks\n",
    "Why is it important to know that algorithms that look different can do the same thing and that algorithms that look the same might have different results?\n",
    "- It's important because effective collaboration requires understanding of these concnepts."
   ]
  },
  {
   "cell_type": "code",
   "execution_count": 2,
   "metadata": {},
   "outputs": [
    {
     "name": "stdout",
     "output_type": "stream",
     "text": [
      "Turn in your test\n"
     ]
    }
   ],
   "source": [
    "testfinished = True\n",
    "checked = True\n",
    "if testfinished == True:\n",
    "    if checked == True:\n",
    "        print(\"Turn in your test\")\n",
    "    else:\n",
    "        print(\"Check your work\")\n",
    "else:\n",
    "    print(\"Finish the test\")"
   ]
  },
  {
   "cell_type": "code",
   "execution_count": 1,
   "metadata": {},
   "outputs": [
    {
     "name": "stdout",
     "output_type": "stream",
     "text": [
      "Turn in your test\n"
     ]
    }
   ],
   "source": [
    "testfinished = True\n",
    "checked = True\n",
    "\n",
    "turnin = testfinished and checked\n",
    "\n",
    "if turnin == True:\n",
    "    print(\"Turn in your test\")\n",
    "else:\n",
    "    print(\"Check your work\")"
   ]
  },
  {
   "attachments": {},
   "cell_type": "markdown",
   "metadata": {},
   "source": [
    "## 3.9.2 Hacks"
   ]
  },
  {
   "cell_type": "code",
   "execution_count": 2,
   "metadata": {},
   "outputs": [
    {
     "name": "stdout",
     "output_type": "stream",
     "text": [
      "11000000\n"
     ]
    }
   ],
   "source": [
    "def andbyte(byte1, byte2):\n",
    "    split1 = list(str(byte1))\n",
    "    split2 = list(str(byte2))\n",
    "    returnlist = []\n",
    "    i=0\n",
    "    while i < 8:\n",
    "        if split1[i] == split2[i] == \"1\":\n",
    "            returnlist.append(\"1\")\n",
    "        else:\n",
    "            returnlist.append(\"0\")\n",
    "        i += 1\n",
    "    return(\"\".join(returnlist))\n",
    "\n",
    "print(andbyte(11110000, 11000000))"
   ]
  },
  {
   "attachments": {},
   "cell_type": "markdown",
   "metadata": {},
   "source": [
    "![Flowchart](https://raw.githubusercontent.com/SAnd353/Blog/6ed7d5be80bce7d1fe58eae761f4c23f98fc6030/images/39311flowchart.png)\n",
    "1. convert byte1 and byte2 into individual lists where each element is one bit\n",
    "2. define the list to return\n",
    "3. start with the first element in each list. If they are both one, then append \"1\" to the list that will be returned. If not, append \"0\"\n",
    "4. repeat for the other elements until all elements have been processed\n",
    "5. convert the list to return into a string and return it"
   ]
  },
  {
   "attachments": {},
   "cell_type": "markdown",
   "metadata": {},
   "source": [
    "## 3.9.3 Hacks"
   ]
  },
  {
   "cell_type": "code",
   "execution_count": null,
   "metadata": {},
   "outputs": [],
   "source": [
    "import random\n",
    "\n",
    "#sets variables for the game\n",
    "num_guesses = 0\n",
    "user_guess = 0\n",
    "upper_bound = 100\n",
    "lower_bound = 0\n",
    "\n",
    "#generates a random number\n",
    "number = random.randint(1,100)\n",
    "\n",
    "# print(number)     #for testing purposes\n",
    "\n",
    "print(f\"I'm thinking of a number between 1 and 100.\")\n",
    "\n",
    "#Write a function that gets a guess from the user using input()\n",
    "def guess():\n",
    "    gnum = int(input())\n",
    "    return(gnum) #add something here \n",
    "\n",
    "#Change the print statements to give feedback on whether the player guessed too high or too low\n",
    "def search(number, guess):\n",
    "    global lower_bound, upper_bound\n",
    "    if guess < number:\n",
    "        print(\"Too low. Try again\") #change this\n",
    "        lower_bound = guess\n",
    "    elif guess > number:\n",
    "        print(\"Too high. Try again\") #change this\n",
    "        upper_bound = guess\n",
    "    return lower_bound, upper_bound\n",
    "\n",
    "while user_guess != number:\n",
    "    print(f\"Guess a number between {lower_bound} and {upper_bound}.\")\n",
    "    user_guess = guess()\n",
    "    num_guesses += 1\n",
    "    print(f\"You guessed {user_guess}.\")\n",
    "    lower_bound, upper_bound = search(number, user_guess)\n",
    "\n",
    "print(f\"You guessed the number in {num_guesses} guesses!\")"
   ]
  },
  {
   "attachments": {},
   "cell_type": "markdown",
   "metadata": {},
   "source": [
    "## 3.11 Hacks\n",
    "\n",
    "1. \n",
    "- 12, 14, 43, 57, 79, 80, 99: middle index is 57\n",
    "![binarytree1](https://raw.githubusercontent.com/SAnd353/Blog/84292b39f01cc2cb7e6e562d0d6d8e8ec7587a02/images/39311binarytree1.png)\n",
    "- 92, 43, 74, 66, 30, 12, 1: middle index is 43\n",
    "![binarytree2](https://raw.githubusercontent.com/SAnd353/Blog/b03b1d0dba6eda6ca6ea2e00aa944dd0153391a1/images/39311binarytree2.png)\n",
    "- 7, 13, 96, 111, 33, 84, 60: middle index is 60\n",
    "![binarytree3](https://raw.githubusercontent.com/SAnd353/Blog/84292b39f01cc2cb7e6e562d0d6d8e8ec7587a02/images/39311binarytree3.png)\n",
    "2. For the first set, the second number that would be looked at if the number is larger than the middle number is 80\n",
    "3. binary search cannot be used for list c"
   ]
  }
 ],
 "metadata": {
  "kernelspec": {
   "display_name": "Python 3.8.10 64-bit",
   "language": "python",
   "name": "python3"
  },
  "language_info": {
   "codemirror_mode": {
    "name": "ipython",
    "version": 3
   },
   "file_extension": ".py",
   "mimetype": "text/x-python",
   "name": "python",
   "nbconvert_exporter": "python",
   "pygments_lexer": "ipython3",
   "version": "3.8.10 (default, Jun 22 2022, 20:18:18) \n[GCC 9.4.0]"
  },
  "orig_nbformat": 4,
  "vscode": {
   "interpreter": {
    "hash": "916dbcbb3f70747c44a77c7bcd40155683ae19c65e1c03b4aa3499c5328201f1"
   }
  }
 },
 "nbformat": 4,
 "nbformat_minor": 2
}
