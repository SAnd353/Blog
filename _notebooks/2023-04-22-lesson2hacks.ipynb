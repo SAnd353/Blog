{
 "cells": [
  {
   "attachments": {},
   "cell_type": "markdown",
   "metadata": {},
   "source": [
    "# Lesson 2 Hacks\n",
    "> Hacks for lesson 2\n",
    "- toc: true"
   ]
  },
  {
   "attachments": {},
   "cell_type": "markdown",
   "metadata": {},
   "source": [
    "### What are 5 Basic UI Elements?:\n",
    "\n",
    "1. color\n",
    "2. font\n",
    "3. layout\n",
    "4. icons\n",
    "5. interactivity\n",
    "\n",
    "### In your own words, explain what SASS does:\n",
    "- it is an extension of CSS\n",
    "\n",
    "### What are some benefits to SASS?: \n",
    "- more features and less lines\n",
    "- variables\n",
    "\n",
    "### Describe/Explain one of the more \"advanced\" SASS properties below in detail:\n",
    "- Rotate: making an animation effect with an element spinning\n"
   ]
  },
  {
   "attachments": {},
   "cell_type": "markdown",
   "metadata": {},
   "source": [
    "# Hacks - Insert any screenshots, code segments, etc. that you need to\n",
    "\n",
    "## Hacks Part 1\n",
    "1. Add your own element to your own repository to make it unique (0.9)\n",
    "- I added a gradient to my front page's header and post list. \n",
    "\n",
    "## Hacks Part 2\n",
    "1. Add the style change button to your own github page (0.9)\n",
    "    - Change the button to your own styles \n",
    "        - I changed them to white and black backgrounds\n",
    "    - See if you can let make it change to multiple different styles (we understand that it is hard to create multiple distinct styles so you are only required to make it clear you have at least three different styles at can be changed)\n",
    "        - Added background color chooser (try putting in something like \"red\" or \"orange\")\n",
    "        - [Here](https://sand353.github.io/Blog/_pages/2023-04-25-theme-changer.html)\n",
    "2. Extra: Try and incorporate something you learned in the lesson into your CPT Project (0.1)\n",
    "\n",
    "## Hacks Part 3\n",
    "1. Add SASS to Number Guesser Game provided (0.9) or create your own Javascript game/application and add SASS to it (0.9+)\n",
    "2. We will collectively decide on the \"best\" game/app and award potential seed. \n",
    "\n",
    "[My game](https://sand353.github.io/Blog/_pages/2023-04-27-wackamole.html))"
   ]
  }
 ],
 "metadata": {
  "kernelspec": {
   "display_name": "base",
   "language": "python",
   "name": "python3"
  },
  "language_info": {
   "codemirror_mode": {
    "name": "ipython",
    "version": 3
   },
   "file_extension": ".py",
   "mimetype": "text/x-python",
   "name": "python",
   "nbconvert_exporter": "python",
   "pygments_lexer": "ipython3",
   "version": "3.9.12"
  },
  "orig_nbformat": 4
 },
 "nbformat": 4,
 "nbformat_minor": 2
}
