{
 "cells": [
  {
   "cell_type": "markdown",
   "metadata": {},
   "source": [
    "# InfoDB"
   ]
  },
  {
   "cell_type": "markdown",
   "metadata": {},
   "source": [
    "InfoDB is defined in the cell below"
   ]
  },
  {
   "cell_type": "code",
   "execution_count": 2,
   "metadata": {},
   "outputs": [],
   "source": [
    "InfoDB=[]\n",
    "# a dictionary (key and value)"
   ]
  },
  {
   "cell_type": "markdown",
   "metadata": {},
   "source": [
    "Data is added to InfoDB in the cell below"
   ]
  },
  {
   "cell_type": "code",
   "execution_count": 7,
   "metadata": {},
   "outputs": [],
   "source": [
    "#Adding to the dictionary\n",
    "InfoDB.append({\n",
    "    \"Country\":\"America\",\n",
    "    \"Language\":\"English\",\n",
    "})\n",
    "\n",
    "InfoDB.append({\n",
    "    \"Country\":\"Canada\",\n",
    "    \"Language\":\"English\",\n",
    "})\n",
    "\n",
    "InfoDB.append({\n",
    "    \"Country\":\"United Kingdom\",\n",
    "    \"Language\":\"English\",\n",
    "})\n",
    "\n",
    "InfoDB.append({\n",
    "    \"Country\":\"Australia\",\n",
    "    \"Language\":\"English\",\n",
    "})\n",
    "\n",
    "InfoDB.append({\n",
    "    \"Country\":\"Spain\",\n",
    "    \"Language\":\"Spanish\",\n",
    "})"
   ]
  },
  {
   "cell_type": "markdown",
   "metadata": {},
   "source": [
    "A function that prints out data in a list"
   ]
  },
  {
   "cell_type": "code",
   "execution_count": 4,
   "metadata": {},
   "outputs": [],
   "source": [
    "#A function that prints out data with a for loop\n",
    "def printdb(list):\n",
    "    for i in list:\n",
    "        print(i)"
   ]
  },
  {
   "cell_type": "markdown",
   "metadata": {},
   "source": [
    "A while loop that prints out data in InfoDB"
   ]
  },
  {
   "cell_type": "code",
   "execution_count": 8,
   "metadata": {},
   "outputs": [
    {
     "name": "stdout",
     "output_type": "stream",
     "text": [
      "{'English', 'Country', 'AmericaLanguage'}\n",
      "{'English', 'CanadaLanguage', 'Country'}\n",
      "{'United KingdomLanguage', 'English', 'Country'}\n",
      "{'English', 'Country', 'AustraliaLanguage'}\n",
      "{'SpainLanguage', 'Spanish', 'Country'}\n",
      "{'Country': 'America', 'Language': 'English'}\n",
      "{'Country': 'Canada', 'Language': 'English'}\n",
      "{'Country': 'United Kingdom', 'Language': 'English'}\n",
      "{'Country': 'Australia', 'Language': 'English'}\n",
      "{'Country': 'Spain', 'Language': 'Spanish'}\n"
     ]
    }
   ],
   "source": [
    "# a while loop that prints dictionary contents\n",
    "i=0\n",
    "while i < len(InfoDB):\n",
    "    record = InfoDB[i]\n",
    "    print(record)\n",
    "    i += 1"
   ]
  },
  {
   "cell_type": "markdown",
   "metadata": {},
   "source": [
    "A recursive function that prints out data in InfoDB"
   ]
  },
  {
   "cell_type": "code",
   "execution_count": 6,
   "metadata": {},
   "outputs": [
    {
     "name": "stdout",
     "output_type": "stream",
     "text": [
      "{'English', 'Country', 'AmericaLanguage'}\n",
      "{'English', 'CanadaLanguage', 'Country'}\n",
      "{'United KingdomLanguage', 'English', 'Country'}\n",
      "{'English', 'Country', 'AustraliaLanguage'}\n",
      "{'SpainLanguage', 'Spanish', 'Country'}\n"
     ]
    }
   ],
   "source": [
    "#creating a recursive function\n",
    "def recursive_loop(i):\n",
    "    if i < len(InfoDB):\n",
    "        print(InfoDB[i])\n",
    "        recursive_loop(i + 1)\n",
    "\n",
    "recursive_loop(0)"
   ]
  },
  {
   "cell_type": "code",
   "execution_count": 10,
   "metadata": {},
   "outputs": [
    {
     "name": "stdout",
     "output_type": "stream",
     "text": [
      "12\n",
      "60\n",
      "33\n",
      "1000000\n",
      "14\n",
      "\n",
      "reverse printing\n",
      "14\n",
      "1000000\n",
      "33\n",
      "60\n",
      "12\n",
      "\n",
      "finding greatest number\n",
      "1000000 is the greatest number in the list\n"
     ]
    }
   ],
   "source": [
    "#Loops and data\n",
    "\n",
    "list = [12, 60, 33, 1000000, 14]\n",
    "\n",
    "for i in range(len(list)):\n",
    "    print(list[i])\n",
    "\n",
    "print(\"\\nreverse printing\")\n",
    "for i in range(len(list)):\n",
    "    print(list[-i-1])\n",
    "\n",
    "print(\"\\nfinding greatest number\")\n",
    "greatest = list[0]\n",
    "for i in range(len(list)):\n",
    "    if list[i] > greatest:\n",
    "        greatest = list[i]\n",
    "print(str(greatest) + \" is the greatest number in the list\")"
   ]
  }
 ],
 "metadata": {
  "kernelspec": {
   "display_name": "Python 3.8.10 64-bit",
   "language": "python",
   "name": "python3"
  },
  "language_info": {
   "codemirror_mode": {
    "name": "ipython",
    "version": 3
   },
   "file_extension": ".py",
   "mimetype": "text/x-python",
   "name": "python",
   "nbconvert_exporter": "python",
   "pygments_lexer": "ipython3",
   "version": "3.8.10"
  },
  "orig_nbformat": 4,
  "vscode": {
   "interpreter": {
    "hash": "916dbcbb3f70747c44a77c7bcd40155683ae19c65e1c03b4aa3499c5328201f1"
   }
  }
 },
 "nbformat": 4,
 "nbformat_minor": 2
}
