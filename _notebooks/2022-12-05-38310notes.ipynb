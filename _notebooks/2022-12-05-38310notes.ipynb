{
 "cells": [
  {
   "cell_type": "markdown",
   "metadata": {},
   "source": [
    "# 3.8 and 3.10 Notes\n",
    "> Notes on 3.8-3.10 lesson\n",
    "- toc: true"
   ]
  },
  {
   "cell_type": "markdown",
   "metadata": {},
   "source": [
    "# Section 8: Iteration\n",
    "- Iteration: repeating portion of an algorithm\n",
    "- Iteration statements, repeat until (conditional) \n",
    "- finding lost item example: start with one room, search, if not found, go to next room, repeat until you find the item"
   ]
  },
  {
   "cell_type": "code",
   "execution_count": 4,
   "metadata": {},
   "outputs": [
    {
     "name": "stdout",
     "output_type": "stream",
     "text": [
      "0\n",
      "1\n",
      "2\n"
     ]
    }
   ],
   "source": [
    "# loop\n",
    "i = 0\n",
    "while (i < 3):\n",
    "    print(i)\n",
    "    i += 1"
   ]
  },
  {
   "cell_type": "code",
   "execution_count": 2,
   "metadata": {},
   "outputs": [
    {
     "name": "stdout",
     "output_type": "stream",
     "text": [
      "0\n",
      "1\n"
     ]
    }
   ],
   "source": [
    "# stopping condition\n",
    "i = 0\n",
    "while (i < 3):\n",
    "    print(i)\n",
    "    i += 1\n",
    "    if (i == 2):\n",
    "        break"
   ]
  },
  {
   "cell_type": "markdown",
   "metadata": {},
   "source": [
    "- Iteration Statement - makes statement(s) execute zero or more times (subject to loop termination)"
   ]
  },
  {
   "cell_type": "code",
   "execution_count": 4,
   "metadata": {},
   "outputs": [
    {
     "name": "stdout",
     "output_type": "stream",
     "text": [
      "0\n",
      "1\n",
      "2\n",
      "3\n",
      "4\n"
     ]
    }
   ],
   "source": [
    "# the number in the range isn't included\n",
    "for i in range(5):\n",
    "    print(i)"
   ]
  },
  {
   "cell_type": "code",
   "execution_count": 5,
   "metadata": {},
   "outputs": [
    {
     "name": "stdout",
     "output_type": "stream",
     "text": [
      "1\n",
      "2\n",
      "3\n",
      "4\n"
     ]
    }
   ],
   "source": [
    "# starting and ending values\n",
    "for i in range(1, 5):\n",
    "    print(i)"
   ]
  },
  {
   "cell_type": "code",
   "execution_count": 6,
   "metadata": {},
   "outputs": [
    {
     "name": "stdout",
     "output_type": "stream",
     "text": [
      "1\n",
      "3\n"
     ]
    }
   ],
   "source": [
    "# starting, ending, and incrementing values\n",
    "for i in range(1, 5, 2):\n",
    "    print(i)"
   ]
  },
  {
   "cell_type": "code",
   "execution_count": 7,
   "metadata": {},
   "outputs": [
    {
     "name": "stdout",
     "output_type": "stream",
     "text": [
      "apple\n",
      "banana\n",
      "orange\n"
     ]
    }
   ],
   "source": [
    "# for loop\n",
    "fruit = [\"apple\", \"banana\", \"orange\", \"lemon\"]\n",
    "for i in fruit:\n",
    "    print(i)\n",
    "    if i ==\"orange\":\n",
    "        break"
   ]
  },
  {
   "cell_type": "code",
   "execution_count": 1,
   "metadata": {},
   "outputs": [
    {
     "name": "stdout",
     "output_type": "stream",
     "text": [
      "apple\n",
      "banana\n",
      "orange\n"
     ]
    }
   ],
   "source": [
    "# while loop\n",
    "fruit = [\"apple\", \"banana\", \"orange\", \"lemon\"]\n",
    "i = 0\n",
    "while i < 5:\n",
    "    print(fruit[i])\n",
    "    if fruit[i]==\"orange\":\n",
    "        break\n",
    "    i +=1"
   ]
  },
  {
   "cell_type": "markdown",
   "metadata": {},
   "source": [
    "# Section 10: Lists\n",
    "\n",
    "- Traversal: visiting each element in a list sequentially\n",
    "- Complete, partial, iterative (using a loop) traversal\n",
    "- len(), sort() (permanent), sorted() (temporary), reverse (reverses a list)\n",
    "- range(), min(), max(), sum()"
   ]
  },
  {
   "cell_type": "code",
   "execution_count": 3,
   "metadata": {},
   "outputs": [
    {
     "name": "stdout",
     "output_type": "stream",
     "text": [
      "4\n",
      "1\n",
      "10\n",
      "24\n"
     ]
    }
   ],
   "source": [
    "list = [1, 5, 8, 10]\n",
    "print(len(list))\n",
    "print(min(list))\n",
    "print(max(list))\n",
    "print(sum(list))"
   ]
  }
 ],
 "metadata": {
  "kernelspec": {
   "display_name": "Python 3.9.12 ('base')",
   "language": "python",
   "name": "python3"
  },
  "language_info": {
   "codemirror_mode": {
    "name": "ipython",
    "version": 3
   },
   "file_extension": ".py",
   "mimetype": "text/x-python",
   "name": "python",
   "nbconvert_exporter": "python",
   "pygments_lexer": "ipython3",
   "version": "3.9.12"
  },
  "orig_nbformat": 4,
  "vscode": {
   "interpreter": {
    "hash": "2d8b9bcabbf965863b110062fd6ac062911b836e854e2c074ded1459b317a740"
   }
  }
 },
 "nbformat": 4,
 "nbformat_minor": 2
}
