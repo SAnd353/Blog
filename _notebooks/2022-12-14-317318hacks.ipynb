{
 "cells": [
  {
   "attachments": {},
   "cell_type": "markdown",
   "metadata": {},
   "source": [
    "# 3.17 & 3.18 Hacks\n",
    "- title: Collegeboard Lesson 3.17 & 3.18 Hacks\n",
    "- toc: true\n",
    "- categories: [Lesson_Hacks]\n",
    "\n",
    "## Hack #1"
   ]
  },
  {
   "cell_type": "code",
   "execution_count": 15,
   "metadata": {},
   "outputs": [
    {
     "name": "stdout",
     "output_type": "stream",
     "text": [
      "Please enter a number: Number of iterations: 6\n",
      "[10, 5.0, 16.0, 8.0, 4.0, 2.0, 1.0]\n"
     ]
    }
   ],
   "source": [
    "def collatz(i):\n",
    "    while i != 1:\n",
    "        if i % 2 > 0:\n",
    "            i = ((3 * i) + 1) \n",
    "            list_.append(i)\n",
    "        else:\n",
    "            i = (i/2)\n",
    "            list_.append(i)\n",
    "    return list_\n",
    "\n",
    "\n",
    "print('Please enter a number: ', end='')\n",
    "while True:\n",
    "    try:\n",
    "        i = int(input())\n",
    "        list_ = [i]\n",
    "        break\n",
    "    except ValueError:\n",
    "        print('Invaid selection, try again: ', end='')\n",
    "\n",
    "\n",
    "l = collatz(i)\n",
    "\n",
    "print('Number of iterations:', len(l) - 1)\n",
    "print(l)"
   ]
  },
  {
   "attachments": {},
   "cell_type": "markdown",
   "metadata": {},
   "source": [
    "## Hack #2\n",
    "Below is an inefficient algorithm followed by an efficient algorithm. They accomplish the same purpose of finding the total of a list of numbers. The latter is more efficient than the former because it finishes running roughly 0.1 second faster or in the same amount of time (according to VSCode). Additionally, The former calls a function and uses a for loop while the latter simply uses a built-in function, so it likely requires less RAM usage."
   ]
  },
  {
   "cell_type": "code",
   "execution_count": 14,
   "metadata": {},
   "outputs": [
    {
     "data": {
      "text/plain": [
       "15"
      ]
     },
     "execution_count": 14,
     "metadata": {},
     "output_type": "execute_result"
    }
   ],
   "source": [
    "list = [1,2,3,4,5]\n",
    "\n",
    "def list_total(list):\n",
    "    total = 0\n",
    "    for i in list:\n",
    "        total += i\n",
    "    return(total)\n",
    "\n",
    "list_total(list)"
   ]
  },
  {
   "cell_type": "code",
   "execution_count": 30,
   "metadata": {},
   "outputs": [
    {
     "name": "stdout",
     "output_type": "stream",
     "text": [
      "15\n"
     ]
    }
   ],
   "source": [
    "list = [1,2,3,4,5]\n",
    "\n",
    "print(sum(list))"
   ]
  },
  {
   "attachments": {},
   "cell_type": "markdown",
   "metadata": {},
   "source": [
    "The following is an algorithm for the last part of hack #2. It is a simple search algorithm."
   ]
  },
  {
   "cell_type": "code",
   "execution_count": 13,
   "metadata": {},
   "outputs": [
    {
     "data": {
      "text/plain": [
       "'Index is 1'"
      ]
     },
     "execution_count": 13,
     "metadata": {},
     "output_type": "execute_result"
    }
   ],
   "source": [
    "def search(num, list):\n",
    "    for i in range(len(list)):\n",
    "        if list[i] == num:\n",
    "            return(\"Index is \" + str(i))\n",
    "            break\n",
    "    return(\"Not in list\")\n",
    "\n",
    "userinput = int(input(\"What number would you like to search for?\"))\n",
    "search(userinput, [3,6,12,5,1,78,80])"
   ]
  }
 ],
 "metadata": {
  "kernelspec": {
   "display_name": "Python 3",
   "language": "python",
   "name": "python3"
  },
  "language_info": {
   "codemirror_mode": {
    "name": "ipython",
    "version": 3
   },
   "file_extension": ".py",
   "mimetype": "text/x-python",
   "name": "python",
   "nbconvert_exporter": "python",
   "pygments_lexer": "ipython3",
   "version": "3.8.10"
  },
  "orig_nbformat": 4,
  "vscode": {
   "interpreter": {
    "hash": "916dbcbb3f70747c44a77c7bcd40155683ae19c65e1c03b4aa3499c5328201f1"
   }
  }
 },
 "nbformat": 4,
 "nbformat_minor": 2
}
