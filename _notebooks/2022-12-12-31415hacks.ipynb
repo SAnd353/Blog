{
 "cells": [
  {
   "attachments": {},
   "cell_type": "markdown",
   "metadata": {},
   "source": [
    "# 3.14 & 3.15 Hacks\n",
    "- title: Collegeboard Lesson 3.14 & 3.15 Hacks\n",
    "- toc: true\n",
    "- categories: [Lesson_Hacks]"
   ]
  },
  {
   "attachments": {},
   "cell_type": "markdown",
   "metadata": {},
   "source": [
    "## 3.14.1 Hacks"
   ]
  },
  {
   "cell_type": "code",
   "execution_count": 5,
   "metadata": {},
   "outputs": [
    {
     "name": "stdout",
     "output_type": "stream",
     "text": [
      "0.9999999999932537 0.0\n"
     ]
    }
   ],
   "source": [
    "import math\n",
    "print(math.sin(1.5708), math.sin(0))"
   ]
  },
  {
   "attachments": {},
   "cell_type": "markdown",
   "metadata": {},
   "source": [
    "The code above imports the math library and computes the value of sine of 1.5708 radians and sine of 0 radians using the math library"
   ]
  },
  {
   "attachments": {},
   "cell_type": "markdown",
   "metadata": {},
   "source": [
    "## 3.15.1 Hacks\n",
    "- \"import random\" imports the random library. One thing that random can do is generate a random integer between two numbers (inclusive)\n",
    "- Besides random, you could also immport numpy, math, matplotlib, and more"
   ]
  },
  {
   "attachments": {},
   "cell_type": "markdown",
   "metadata": {},
   "source": [
    "## 3.15.2 Hacks"
   ]
  },
  {
   "cell_type": "code",
   "execution_count": 10,
   "metadata": {},
   "outputs": [
    {
     "name": "stdout",
     "output_type": "stream",
     "text": [
      "Blue\n"
     ]
    }
   ],
   "source": [
    "import random\n",
    "spinner = random.randint(1,8)\n",
    "if spinner < 4:\n",
    "    print(\"Green\")\n",
    "elif spinner < 6:\n",
    "    print(\"Blue\")\n",
    "elif spinner < 7:\n",
    "    print(\"Purple\")\n",
    "elif spinner < 8:\n",
    "    print(\"Red\")\n",
    "elif spinner < 9:\n",
    "    print(\"Orange\")"
   ]
  },
  {
   "attachments": {},
   "cell_type": "markdown",
   "metadata": {},
   "source": [
    "RANDOM(12,20) can output values 12-20 (excluding 12 and 20)"
   ]
  }
 ],
 "metadata": {
  "kernelspec": {
   "display_name": "Python 3",
   "language": "python",
   "name": "python3"
  },
  "language_info": {
   "codemirror_mode": {
    "name": "ipython",
    "version": 3
   },
   "file_extension": ".py",
   "mimetype": "text/x-python",
   "name": "python",
   "nbconvert_exporter": "python",
   "pygments_lexer": "ipython3",
   "version": "3.8.10"
  },
  "orig_nbformat": 4,
  "vscode": {
   "interpreter": {
    "hash": "916dbcbb3f70747c44a77c7bcd40155683ae19c65e1c03b4aa3499c5328201f1"
   }
  }
 },
 "nbformat": 4,
 "nbformat_minor": 2
}
