{
 "cells": [
  {
   "cell_type": "markdown",
   "metadata": {},
   "source": [
    "# Quiz\n",
    "> The following is a quiz program I wrote in python."
   ]
  },
  {
   "cell_type": "code",
   "execution_count": 8,
   "metadata": {},
   "outputs": [
    {
     "name": "stdout",
     "output_type": "stream",
     "text": [
      "import is correct!\n",
      "if is correct!\n",
      "expression is correct!\n",
      "print is correct!\n",
      "def is correct!\n",
      "str() is correct!\n",
      "You scored 6 out of 6 or 100.0%\n"
     ]
    }
   ],
   "source": [
    "#Creating questions and their respective answers\n",
    "questionbank = [\"What command is used to include other functions that were previously developed?\",\"What command is used to evaluate correct or incorrect response in this example?\",\"Each 'if' command contains an '_________' to determine a true or false condition?\",\"What is the basic python output command that prints text to the terminal?\", \"What keyword is used in python to define a function?\",\"What is the python function that converts variables into strings?\"]\n",
    "answerbank = [\"import\",\"if\",\"expression\",\"print\",\"def\",\"str()\"]\n",
    "\n",
    "correct = 0 #Starting number of correct questions\n",
    "\n",
    "#Iterating through the questions, prompting the user for answers and providing feedback\n",
    "for i in range(len(questionbank)):\n",
    "    rsp=input(questionbank[i] + \" \")\n",
    "    if rsp == answerbank[i]:\n",
    "        print(rsp + \" is correct!\")\n",
    "        correct += 1\n",
    "    else:\n",
    "        print(rsp + \" is incorrect!\")\n",
    "\n",
    "print(\"You scored \" + str(correct) + \" out of \" + str(len(questionbank)) + \" or \" + str(correct/len(questionbank)*100) + \"%\") #Results"
   ]
  }
 ],
 "metadata": {
  "kernelspec": {
   "display_name": "Python 3.8.10 64-bit",
   "language": "python",
   "name": "python3"
  },
  "language_info": {
   "codemirror_mode": {
    "name": "ipython",
    "version": 3
   },
   "file_extension": ".py",
   "mimetype": "text/x-python",
   "name": "python",
   "nbconvert_exporter": "python",
   "pygments_lexer": "ipython3",
   "version": "3.8.10"
  },
  "orig_nbformat": 4,
  "vscode": {
   "interpreter": {
    "hash": "916dbcbb3f70747c44a77c7bcd40155683ae19c65e1c03b4aa3499c5328201f1"
   }
  }
 },
 "nbformat": 4,
 "nbformat_minor": 2
}
