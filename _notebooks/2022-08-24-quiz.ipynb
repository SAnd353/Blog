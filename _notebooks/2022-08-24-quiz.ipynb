{
 "cells": [
  {
   "cell_type": "markdown",
   "metadata": {},
   "source": [
    "---\n",
    "title: Quiz\n",
    "description: Quiz program in python\n",
    "layout: post\n",
    "---\n",
    "\n",
    "The following is a quiz program I wrote in python."
   ]
  },
  {
   "cell_type": "code",
   "execution_count": 2,
   "metadata": {},
   "outputs": [
    {
     "name": "stdout",
     "output_type": "stream",
     "text": [
      "import is correct!\n",
      "if is correct!\n",
      "expression is correct!\n",
      "You scored 3 out of 3\n"
     ]
    }
   ],
   "source": [
    "#Creating questions and their respective answers\n",
    "questionbank = [\"What command is used to include other functions that were previously developed?\",\"What command is used to evaluate correct or incorrect response in this example?\",\"Each 'if' command contains an '_________' to determine a true or false condition?\"]\n",
    "answerbank = [\"import\",\"if\",\"expression\"]\n",
    "\n",
    "qs = len(questionbank) #Total Number of questions\n",
    "\n",
    "correct = 0 #Starting number of correct questions\n",
    "\n",
    "#Iterating through the questions, prompting the user for answers and providing feedback\n",
    "for i in range(qs):\n",
    "    rsp=input(questionbank[i] + \" \")\n",
    "    if rsp == answerbank[i]:\n",
    "        print(rsp + \" is correct!\")\n",
    "        correct += 1\n",
    "    else:\n",
    "        print(rsp + \" is incorrect!\")\n",
    "\n",
    "print(\"You scored \" + str(correct) + \" out of \" + str(qs)) #Results"
   ]
  }
 ],
 "metadata": {
  "kernelspec": {
   "display_name": "Python 3.8.10 64-bit",
   "language": "python",
   "name": "python3"
  },
  "language_info": {
   "codemirror_mode": {
    "name": "ipython",
    "version": 3
   },
   "file_extension": ".py",
   "mimetype": "text/x-python",
   "name": "python",
   "nbconvert_exporter": "python",
   "pygments_lexer": "ipython3",
   "version": "3.8.10"
  },
  "orig_nbformat": 4,
  "vscode": {
   "interpreter": {
    "hash": "916dbcbb3f70747c44a77c7bcd40155683ae19c65e1c03b4aa3499c5328201f1"
   }
  }
 },
 "nbformat": 4,
 "nbformat_minor": 2
}
